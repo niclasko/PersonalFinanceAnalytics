{
 "cells": [
  {
   "cell_type": "code",
   "execution_count": 43,
   "metadata": {},
   "outputs": [
    {
     "name": "stdout",
     "output_type": "stream",
     "text": [
      "The autoreload extension is already loaded. To reload it, use:\n",
      "  %reload_ext autoreload\n"
     ]
    }
   ],
   "source": [
    "%load_ext autoreload\n",
    "%autoreload 2\n",
    "\n",
    "import sys\n",
    "\n",
    "sys.path.append('../')\n",
    "\n",
    "from PersonalFinanceAnalytics.dataprep.bank_export_dataprep import BankExportDataprep\n",
    "from PersonalFinanceAnalytics.dataprep.calendar import Calendar\n",
    "from PersonalFinanceAnalytics.dataprep.transaction_categories import TransactionCategories"
   ]
  },
  {
   "cell_type": "code",
   "execution_count": 57,
   "metadata": {},
   "outputs": [
    {
     "name": "stderr",
     "output_type": "stream",
     "text": [
      "c:\\code\\Github\\PersonalFinanceAnalytics\\.env\\lib\\site-packages\\openpyxl\\styles\\stylesheet.py:226: UserWarning: Workbook contains no default style, apply openpyxl's default\n",
      "  warn(\"Workbook contains no default style, apply openpyxl's default\")\n",
      "c:\\code\\Github\\PersonalFinanceAnalytics\\.env\\lib\\site-packages\\openpyxl\\styles\\stylesheet.py:226: UserWarning: Workbook contains no default style, apply openpyxl's default\n",
      "  warn(\"Workbook contains no default style, apply openpyxl's default\")\n",
      "c:\\code\\Github\\PersonalFinanceAnalytics\\notebooks\\..\\PersonalFinanceAnalytics\\dataprep\\transaction_categories.py:39: UserWarning: This pattern is interpreted as a regular expression, and has match groups. To actually get the groups, use str.extract.\n"
     ]
    }
   ],
   "source": [
    "transactions = BankExportDataprep().prepare_data(data_path=\"../artefacts/data\")\n",
    "calendar = Calendar().create(dates=transactions[\"transaction_date\"])\n",
    "categories = TransactionCategories().create(text=transactions[\"text\"])\n",
    "transactions = transactions.merge(calendar[[\"date\", \"calendar_key\"]], left_on=\"transaction_date\", right_on=\"date\", how=\"inner\")\n",
    "transactions = transactions.merge(categories[[\"text\", \"category_key\"]], left_on=\"text\", right_on=\"text\", how=\"inner\")\n",
    "calendar.to_csv(\n",
    "    \"../artefacts/exports/calendar.csv\", index=False, header=True\n",
    ")\n",
    "categories.to_csv(\"../artefacts/exports/categories.csv\", index=False, header=True, sep=\";\")\n",
    "transactions.to_csv(\"../artefacts/exports/transactions.csv\", index=False, header=True)"
   ]
  },
  {
   "cell_type": "code",
   "execution_count": null,
   "metadata": {},
   "outputs": [],
   "source": []
  }
 ],
 "metadata": {
  "kernelspec": {
   "display_name": "Python 3.9.12 ('.env': venv)",
   "language": "python",
   "name": "python3"
  },
  "language_info": {
   "codemirror_mode": {
    "name": "ipython",
    "version": 3
   },
   "file_extension": ".py",
   "mimetype": "text/x-python",
   "name": "python",
   "nbconvert_exporter": "python",
   "pygments_lexer": "ipython3",
   "version": "3.9.12"
  },
  "orig_nbformat": 4,
  "vscode": {
   "interpreter": {
    "hash": "f992ba9ae298546c54b67cb8881c1bf7d0e4d76c66a7d0c3cf79cfc580d1cd1f"
   }
  }
 },
 "nbformat": 4,
 "nbformat_minor": 2
}
